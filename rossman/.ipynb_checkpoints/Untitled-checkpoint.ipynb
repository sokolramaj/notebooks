{
 "cells": [
  {
   "cell_type": "code",
   "execution_count": 1,
   "metadata": {
    "collapsed": false
   },
   "outputs": [],
   "source": [
    "%matplotlib inline\n",
    "\n",
    "import numpy as np # linear algebra\n",
    "import pandas as pd # data processing, CSV file I/O (e.g. pd.read_csv)\n",
    "import matplotlib.pyplot as plt\n",
    "import seaborn as sns\n",
    "\n",
    "sns.set_style()  \n",
    "pd.set_option('display.max_columns', 100)"
   ]
  },
  {
   "cell_type": "code",
   "execution_count": 4,
   "metadata": {
    "collapsed": false
   },
   "outputs": [
    {
     "name": "stdout",
     "output_type": "stream",
     "text": [
      "1050330\n"
     ]
    }
   ],
   "source": [
    "train_df = pd.read_csv('train_df.csv', parse_dates = ['Date'], infer_datetime_format = True)\n",
    "print (len(train_df))"
   ]
  },
  {
   "cell_type": "code",
   "execution_count": 5,
   "metadata": {
    "collapsed": false
   },
   "outputs": [
    {
     "name": "stdout",
     "output_type": "stream",
     "text": [
      "<class 'pandas.core.frame.DataFrame'>\n",
      "RangeIndex: 1050330 entries, 0 to 1050329\n",
      "Data columns (total 35 columns):\n",
      "Store                  1050330 non-null int64\n",
      "Date                   1050330 non-null datetime64[ns]\n",
      "Sales                  1050330 non-null int64\n",
      "Customers              1050330 non-null int64\n",
      "Open                   1050330 non-null int64\n",
      "Promo                  1050330 non-null int64\n",
      "SchoolHoliday          1050330 non-null int64\n",
      "CompetitionDistance    1050330 non-null float64\n",
      "Promo2                 1050330 non-null int64\n",
      "weekend_store          1050330 non-null int64\n",
      "date_day               1050330 non-null int64\n",
      "date_month             1050330 non-null int64\n",
      "date_weeknum           1050330 non-null int64\n",
      "date_year              1050330 non-null int64\n",
      "Assortment_a           1050330 non-null int64\n",
      "Assortment_b           1050330 non-null int64\n",
      "Assortment_c           1050330 non-null int64\n",
      "StoreType_a            1050330 non-null int64\n",
      "StoreType_b            1050330 non-null int64\n",
      "StoreType_c            1050330 non-null int64\n",
      "StoreType_d            1050330 non-null int64\n",
      "StateHoliday_0         1050330 non-null int64\n",
      "StateHoliday_1         1050330 non-null int64\n",
      "StateHoliday_2         1050330 non-null int64\n",
      "StateHoliday_3         1050330 non-null int64\n",
      "DayOfWeek_1            1050330 non-null int64\n",
      "DayOfWeek_2            1050330 non-null int64\n",
      "DayOfWeek_3            1050330 non-null int64\n",
      "DayOfWeek_4            1050330 non-null int64\n",
      "DayOfWeek_5            1050330 non-null int64\n",
      "DayOfWeek_6            1050330 non-null int64\n",
      "DayOfWeek_7            1050330 non-null int64\n",
      "days_since_comp        1050330 non-null int64\n",
      "days_since_promo       1050330 non-null int64\n",
      "is_promo               1050330 non-null int64\n",
      "dtypes: datetime64[ns](1), float64(1), int64(33)\n",
      "memory usage: 280.5 MB\n"
     ]
    }
   ],
   "source": [
    "train_df.info()"
   ]
  },
  {
   "cell_type": "code",
   "execution_count": 15,
   "metadata": {
    "collapsed": false
   },
   "outputs": [
    {
     "name": "stdout",
     "output_type": "stream",
     "text": [
      "1 loop, best of 3: 3.3 s per loop\n"
     ]
    }
   ],
   "source": [
    "%timeit train_df.where(train_df.Store == 153)"
   ]
  },
  {
   "cell_type": "code",
   "execution_count": 16,
   "metadata": {
    "collapsed": false
   },
   "outputs": [
    {
     "name": "stdout",
     "output_type": "stream",
     "text": [
      "10 loops, best of 3: 30.7 ms per loop\n"
     ]
    }
   ],
   "source": [
    "%timeit train_df.query('Store == 153')"
   ]
  },
  {
   "cell_type": "code",
   "execution_count": 17,
   "metadata": {
    "collapsed": false
   },
   "outputs": [
    {
     "name": "stdout",
     "output_type": "stream",
     "text": [
      "100 loops, best of 3: 8.05 ms per loop\n"
     ]
    }
   ],
   "source": [
    "%timeit train_df[train_df['Store'] == 153]"
   ]
  },
  {
   "cell_type": "code",
   "execution_count": 21,
   "metadata": {
    "collapsed": false
   },
   "outputs": [
    {
     "name": "stdout",
     "output_type": "stream",
     "text": [
      "100 loops, best of 3: 8.86 ms per loop\n"
     ]
    }
   ],
   "source": [
    "%timeit train_df[train_df.Store == 153]"
   ]
  },
  {
   "cell_type": "code",
   "execution_count": 33,
   "metadata": {
    "collapsed": false
   },
   "outputs": [],
   "source": [
    "train_df.reset_index(inplace=True)\n",
    "train_df.set_index(['Store','Date'], inplace=True)"
   ]
  },
  {
   "cell_type": "code",
   "execution_count": 20,
   "metadata": {
    "collapsed": false
   },
   "outputs": [
    {
     "name": "stdout",
     "output_type": "stream",
     "text": [
      "1000 loops, best of 3: 784 µs per loop\n"
     ]
    }
   ],
   "source": [
    "%timeit t.loc[153]"
   ]
  },
  {
   "cell_type": "code",
   "execution_count": 37,
   "metadata": {
    "collapsed": false
   },
   "outputs": [],
   "source": [
    "train_df.drop('index', axis=1, inplace=True)"
   ]
  },
  {
   "cell_type": "code",
   "execution_count": 62,
   "metadata": {
    "collapsed": false
   },
   "outputs": [],
   "source": [
    "train_corr = train_df.groupby(level=0)[['Sales', 'Customers']].corr().loc[::2,'Customers']"
   ]
  },
  {
   "cell_type": "raw",
   "metadata": {},
   "source": [
    "train_df.loc[1, ('Sales','Customers')]"
   ]
  }
 ],
 "metadata": {
  "kernelspec": {
   "display_name": "Python [conda root]",
   "language": "python",
   "name": "conda-root-py"
  },
  "language_info": {
   "codemirror_mode": {
    "name": "ipython",
    "version": 3
   },
   "file_extension": ".py",
   "mimetype": "text/x-python",
   "name": "python",
   "nbconvert_exporter": "python",
   "pygments_lexer": "ipython3",
   "version": "3.5.2"
  }
 },
 "nbformat": 4,
 "nbformat_minor": 1
}
